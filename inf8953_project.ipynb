{
 "cells": [
  {
   "cell_type": "code",
   "execution_count": null,
   "metadata": {},
   "outputs": [],
   "source": [
    "# !git clone https://github.com/benelot/pybullet-gym.git\n",
    "# !cd pybullet-gym\n",
    "# !pip install -e ."
   ]
  },
  {
   "cell_type": "code",
   "execution_count": 1,
   "metadata": {},
   "outputs": [],
   "source": [
    "# Imports\n",
    "import gym\n",
    "from gym.wrappers import Monitor\n",
    "import base64\n",
    "from pathlib import Path\n",
    "from IPython import display as ipythondisplay\n",
    "from pyvirtualdisplay import Display\n",
    "import numpy as np\n",
    "import pybullet\n",
    "import pybulletgym\n",
    "from tqdm import tqdm\n",
    "import matplotlib.pyplot as plt"
   ]
  },
  {
   "cell_type": "code",
   "execution_count": 2,
   "metadata": {},
   "outputs": [],
   "source": [
    "from enum import Enum\n",
    "class Environment(Enum): # See https://github.com/benelot/pybullet-gym\n",
    "    ANT = \"AntMuJoCoEnv-v0\"\n",
    "    CHEETAH = \"HalfCheetahMuJoCoEnv-v0\"\n",
    "    HOPPER = \"HopperMuJoCoEnv-v0\"\n",
    "    #SWIMMER = \"Swimmer-v2\" # Not yet available in pybullet\n",
    "    WALKER = \"Walker2DMuJoCoEnv-v0\"\n",
    "    HUMAN = \"HumanoidMuJoCoEnv-v0\"\n",
    "\n",
    "class Direction(Enum):\n",
    "    POSITIVE = 1\n",
    "    NEGATIVE = -1\n",
    "    BEST = 0"
   ]
  },
  {
   "cell_type": "code",
   "execution_count": 3,
   "metadata": {},
   "outputs": [],
   "source": [
    "class Policy():\n",
    "    def __init__(self, env: gym.Env) -> None:\n",
    "        self.theta = np.zeros((env.action_space.shape[0], env.observation_space.shape[0]))\n",
    "    \n",
    "    def evaluate(self, state, direction: int, std_exp_noise: float, delta: float):\n",
    "        return (self.theta + direction * std_exp_noise * delta).dot(state.reshape(-1,1))\n",
    "    \n",
    "    def sample_deltas(self, n_directions):\n",
    "        return np.array([np.random.randn(*self.theta.shape) for _ in range(n_directions)])\n",
    "    \n",
    "    def update(self, step_size, pos_rewards, neg_rewards, n_directions, deltas):\n",
    "        self.theta += step_size / n_directions * np.sum((pos_rewards - neg_rewards).reshape(-1,1,1) * deltas, axis=0)"
   ]
  },
  {
   "cell_type": "code",
   "execution_count": 4,
   "metadata": {},
   "outputs": [],
   "source": [
    "class BRS():\n",
    "    \"\"\"Basic Random Search\"\"\"\n",
    "    def __init__(self, step_size: float, N: int, std_exp_noise: float) -> None:\n",
    "        self.step_size = step_size\n",
    "        self.N = N\n",
    "        self.std_exp_noise = std_exp_noise\n",
    "    \n",
    "    \n",
    "    def run_episode(self, env:gym.Env, policy: Policy, direction, delta):\n",
    "        state = env.reset()\n",
    "        done = False\n",
    "        total_reward = 0\n",
    "        while not done:\n",
    "            action = policy.evaluate(state, direction, self.std_exp_noise, delta)\n",
    "            state, reward, done, _  = env.step(action)\n",
    "            reward = max(min(reward, 1), -1)\n",
    "            total_reward += reward\n",
    "        \n",
    "        return total_reward\n",
    "\n",
    "\n",
    "    def execute(self, env: gym.Env, n_steps, policy = None):\n",
    "        if policy is None:\n",
    "            policy = Policy(env)\n",
    "        \n",
    "        rewards = []\n",
    "        for _ in tqdm(range(n_steps)):\n",
    "            deltas = policy.sample_deltas(self.N)\n",
    "            positive_rewards = np.array([self.run_episode(env, policy, Direction.POSITIVE.value, delta) for delta in deltas])\n",
    "            negative_rewards = np.array([self.run_episode(env, policy, Direction.NEGATIVE.value, delta) for delta in deltas])\n",
    "\n",
    "            policy.update(self.step_size, positive_rewards, negative_rewards, self.N, deltas)\n",
    "            rewards.append(self.run_episode(env, policy, Direction.BEST.value, 0))\n",
    "        \n",
    "        return policy, rewards\n"
   ]
  },
  {
   "cell_type": "code",
   "execution_count": 5,
   "metadata": {},
   "outputs": [],
   "source": [
    "from dataclasses import dataclass\n",
    "\n",
    "@dataclass\n",
    "class HyperParameters:\n",
    "    nb_steps: int = 50000\n",
    "    learning_rate: float = 0.01\n",
    "    nb_directions: int = 8\n",
    "    std_exp_noise: float = 0.025\n",
    "    seed: int = 8953"
   ]
  },
  {
   "cell_type": "code",
   "execution_count": 6,
   "metadata": {},
   "outputs": [
    {
     "name": "stderr",
     "output_type": "stream",
     "text": [
      "C:\\Users\\Utilisateur\\Envs\\inf8953-project\\lib\\site-packages\\gym\\spaces\\box.py:73: UserWarning: \u001b[33mWARN: Box bound precision lowered by casting to float32\u001b[0m\n",
      "  logger.warn(\n"
     ]
    },
    {
     "name": "stdout",
     "output_type": "stream",
     "text": [
      "WalkerBase::__init__\n"
     ]
    },
    {
     "name": "stderr",
     "output_type": "stream",
     "text": [
      "100%|██████████| 50000/50000 [56:45<00:00, 14.68it/s]\n"
     ]
    }
   ],
   "source": [
    "\n",
    "hp = HyperParameters()\n",
    "brs = BRS(hp.learning_rate, hp.nb_directions, hp.std_exp_noise)\n",
    "env = gym.make(Environment.HOPPER.value)\n",
    "policy, rewards = brs.execute(env, hp.nb_steps)\n",
    "\n"
   ]
  },
  {
   "cell_type": "code",
   "execution_count": 7,
   "metadata": {},
   "outputs": [
    {
     "data": {
      "text/plain": [
       "[<matplotlib.lines.Line2D at 0x1885f08d340>]"
      ]
     },
     "execution_count": 7,
     "metadata": {},
     "output_type": "execute_result"
    },
    {
     "data": {
      "image/png": "[encoded data removed]",
      "text/plain": [
       "<Figure size 432x288 with 1 Axes>"
      ]
     },
     "metadata": {
      "needs_background": "light"
     },
     "output_type": "display_data"
    }
   ],
   "source": [
    "plt.plot(rewards)"
   ]
  }
 ],
 "metadata": {
  "interpreter": {
   "hash": "c3e4dc090d7d99b7fb5574a38463a809430052dfd0398e7555ea39d90f0242e8"
  },
  "kernelspec": {
   "display_name": "Python 3.9.2 64-bit ('inf8953-project': virtualenv)",
   "language": "python",
   "name": "python3"
  },
  "language_info": {
   "codemirror_mode": {
    "name": "ipython",
    "version": 3
   },
   "file_extension": ".py",
   "mimetype": "text/x-python",
   "name": "python",
   "nbconvert_exporter": "python",
   "pygments_lexer": "ipython3",
   "version": "3.9.2"
  },
  "orig_nbformat": 4
 },
 "nbformat": 4,
 "nbformat_minor": 2
}
