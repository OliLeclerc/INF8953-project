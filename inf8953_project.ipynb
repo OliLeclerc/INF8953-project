{
 "cells": [
  {
   "cell_type": "code",
   "execution_count": 5,
   "metadata": {},
   "outputs": [],
   "source": [
    "# !git clone https://github.com/benelot/pybullet-gym.git\n",
    "# !cd pybullet-gym\n",
    "# !pip install -e ."
   ]
  },
  {
   "cell_type": "code",
   "execution_count": 1,
   "metadata": {},
   "outputs": [],
   "source": [
    "# Imports\n",
    "import gym\n",
    "from gym.wrappers import Monitor\n",
    "import base64\n",
    "from pathlib import Path\n",
    "from IPython import display as ipythondisplay\n",
    "from pyvirtualdisplay import Display\n",
    "import numpy as np\n",
    "import pybullet\n",
    "import pybulletgym\n",
    "from tqdm import tqdm\n",
    "import matplotlib.pyplot as plt\n",
    "from pickle import load, dump"
   ]
  },
  {
   "cell_type": "code",
   "execution_count": 2,
   "metadata": {},
   "outputs": [],
   "source": [
    "from enum import Enum\n",
    "class Environment(Enum): # See https://github.com/benelot/pybullet-gym\n",
    "    ANT = \"AntMuJoCoEnv-v0\"\n",
    "    CHEETAH = \"HalfCheetahMuJoCoEnv-v0\"\n",
    "    HOPPER = \"HopperMuJoCoEnv-v0\"\n",
    "    #SWIMMER = \"Swimmer-v2\" # Not yet available in pybullet\n",
    "    WALKER = \"Walker2DMuJoCoEnv-v0\"\n",
    "    HUMAN = \"HumanoidMuJoCoEnv-v0\"\n",
    "\n",
    "class Direction(Enum):\n",
    "    POSITIVE = 1\n",
    "    NEGATIVE = -1\n",
    "    BEST = 0"
   ]
  },
  {
   "cell_type": "code",
   "execution_count": null,
   "metadata": {},
   "outputs": [],
   "source": [
    "# Code is inspired from https://github.com/ashutoshtiwari13/Simple-Random-Search/blob/d63efb4863453d354088e1e48cc6cabb26289cef/ars.py"
   ]
  },
  {
   "cell_type": "code",
   "execution_count": null,
   "metadata": {},
   "outputs": [],
   "source": [
    "# class BRS():\n",
    "#     \"\"\"Basic Random Search\"\"\"\n",
    "#     def __init__(self, step_size: float, N: int, std_exp_noise: float) -> None:\n",
    "#         self.step_size = step_size\n",
    "#         self.N = N\n",
    "#         self.std_exp_noise = std_exp_noise\n",
    "    \n",
    "    \n",
    "#     def run_episode(self, env:gym.Env, policy: Policy, direction, delta):\n",
    "#         state = env.reset()\n",
    "#         done = False\n",
    "#         total_reward = 0\n",
    "#         while not done:\n",
    "#             action = policy.evaluate(state, direction, self.std_exp_noise, delta)\n",
    "#             state, reward, done, _  = env.step(action)\n",
    "#             reward = max(min(reward, 1), -1)\n",
    "#             total_reward += reward\n",
    "        \n",
    "#         return total_reward\n",
    "\n",
    "\n",
    "#     def execute(self, env: gym.Env, n_steps, policy = None, render=False):\n",
    "#         if render:\n",
    "#             env = Monitor(env, \"./outputs\", force=True)\n",
    "#         if policy is None:\n",
    "#             policy = Policy(env)\n",
    "        \n",
    "#         rewards = []\n",
    "#         for _ in tqdm(range(n_steps)):\n",
    "#             deltas = policy.sample_deltas(self.N)\n",
    "#             positive_rewards = np.array([self.run_episode(env, policy, Direction.POSITIVE.value, delta) for delta in deltas])\n",
    "#             negative_rewards = np.array([self.run_episode(env, policy, Direction.NEGATIVE.value, delta) for delta in deltas])\n",
    "\n",
    "#             policy.update(self.step_size, positive_rewards, negative_rewards, self.N, deltas)\n",
    "#             rewards.append(self.run_episode(env, policy, Direction.BEST.value, 0))\n",
    "        \n",
    "#         return policy, rewards"
   ]
  },
  {
   "cell_type": "code",
   "execution_count": 3,
   "metadata": {},
   "outputs": [],
   "source": [
    "class Policy():\n",
    "    def __init__(self, env: gym.Env) -> None:\n",
    "        self.theta = np.zeros((env.action_space.shape[0], env.observation_space.shape[0]))\n",
    "    \n",
    "    def evaluate(self, state, direction: int, std_exp_noise: float, delta: float):\n",
    "        return (self.theta + direction * std_exp_noise * delta).dot(state.reshape(-1,1))\n",
    "    \n",
    "    def sample_deltas(self, n_directions):\n",
    "        return np.array([np.random.randn(*self.theta.shape) for _ in range(n_directions)])\n",
    "    \n",
    "    def update(self, step_size, pos_rewards, neg_rewards, n_best_directions, deltas):\n",
    "        std_rewards = np.array(pos_rewards + neg_rewards).std()\n",
    "        self.theta += step_size / (n_best_directions * std_rewards) * np.sum((pos_rewards - neg_rewards).reshape(-1,1,1) * deltas, axis=0)"
   ]
  },
  {
   "cell_type": "code",
   "execution_count": 4,
   "metadata": {},
   "outputs": [],
   "source": [
    "class BaseNormalizer():\n",
    "\n",
    "    def observe(self, x):\n",
    "        pass\n",
    "\n",
    "    def normalize(self, inputs):\n",
    "        return inputs\n",
    "\n",
    "class Normalizer(BaseNormalizer):\n",
    "\n",
    "    def init(self, nb_inputs):\n",
    "        self.n = np.zeros(nb_inputs)\n",
    "        self.mean = np.zeros(nb_inputs)\n",
    "        self.mean_diff = np.zeros(nb_inputs)\n",
    "        self.var = np.zeros(nb_inputs)\n",
    "\n",
    "    def observe(self, x):\n",
    "        self.n += 1.\n",
    "        last_mean = self.mean.copy()\n",
    "        self.mean += (x - self.mean) / self.n\n",
    "        self.mean_diff += (x - last_mean) * (x - self.mean)\n",
    "        self.var = (self.mean_diff / self.n).clip(min=1e-2)\n",
    "\n",
    "    def normalize(self, inputs):\n",
    "        self.observe(inputs)\n",
    "        obs_mean = self.mean\n",
    "        obs_std = np.sqrt(self.var)\n",
    "        return (inputs - obs_mean) / obs_std"
   ]
  },
  {
   "cell_type": "code",
   "execution_count": 5,
   "metadata": {},
   "outputs": [],
   "source": [
    "class ARS():\n",
    "    \"\"\"Augmented Random Search\"\"\"\n",
    "    def __init__(self, env: gym.Env, step_size: float, n_directions: int, std_exp_noise: float, n_best_directions: int, is_V2=False, output_path=\"./outputs\") -> None:\n",
    "        assert n_best_directions <= n_directions\n",
    "        self.step_size = step_size\n",
    "        self.n_directions = n_directions\n",
    "        self.n_best_directions = n_best_directions\n",
    "        self.std_exp_noise = std_exp_noise\n",
    "        self.env = env\n",
    "        self.eval_env = Monitor(env, output_path, force=True)\n",
    "        if is_V2:\n",
    "            self.normalizer = Normalizer(env.observation_space.shape[0])\n",
    "        else:\n",
    "            self.normalizer = BaseNormalizer()\n",
    "\n",
    "        \n",
    "    \n",
    "    \n",
    "    def run_episode(self, policy: Policy, direction: Direction = Direction.BEST.value, delta=0, render=False):\n",
    "        temp_env = self.env\n",
    "        if render:\n",
    "            temp_env = self.eval_env\n",
    "        state = temp_env.reset()\n",
    "        done = False\n",
    "        total_reward = 0\n",
    "        while not done:\n",
    "            state = self.normalizer.normalize(state)\n",
    "            action = policy.evaluate(state, direction, self.std_exp_noise, delta)\n",
    "            state, reward, done, _  = temp_env.step(action)\n",
    "            reward = max(min(reward, 1), -1)\n",
    "            total_reward += reward\n",
    "        \n",
    "        return total_reward\n",
    "\n",
    "    def execute(self, n_steps, policy = None, render=False):\n",
    "        if policy is None:\n",
    "            policy = Policy(self.env)\n",
    "        \n",
    "        rewards = []\n",
    "        for i in tqdm(range(n_steps)):\n",
    "            deltas = policy.sample_deltas(self.n_directions)\n",
    "            positive_rewards = np.array([self.run_episode(policy, Direction.POSITIVE.value, delta) for delta in deltas])\n",
    "            negative_rewards = np.array([self.run_episode(policy, Direction.NEGATIVE.value, delta) for delta in deltas])\n",
    "\n",
    "            scores = {k: max(r_pos, r_neg) for k, (r_pos, r_neg) in enumerate(zip(positive_rewards, negative_rewards))}\n",
    "            order = sorted(scores.keys(), key=lambda x: scores[x], reverse=True)[:self.n_best_directions]\n",
    "            positive_rewards = np.array([positive_rewards[k] for k in order])\n",
    "            negative_rewards = np.array([negative_rewards[k] for k in order])\n",
    "            deltas = np.array([deltas[k] for k in order])\n",
    "\n",
    "            policy.update(self.step_size, positive_rewards, negative_rewards, self.n_best_directions, deltas)\n",
    "            reward = self.run_episode(policy, render=render)\n",
    "            if render and i % 100 == 0:\n",
    "                print(f\"Step {i}: {reward}\")\n",
    "            rewards.append(reward)\n",
    "        \n",
    "        return policy, rewards\n"
   ]
  },
  {
   "cell_type": "code",
   "execution_count": 6,
   "metadata": {},
   "outputs": [],
   "source": [
    "from dataclasses import dataclass\n",
    "\n",
    "@dataclass\n",
    "class HyperParameters:\n",
    "    nb_steps: int = 1000\n",
    "    learning_rate: float = 0.01\n",
    "    nb_directions: int = 8\n",
    "    std_exp_noise: float = 0.025\n",
    "    nb_best_directions:int = 4\n",
    "    max_episode_length = 1000\n",
    "    seed: int = 8953"
   ]
  },
  {
   "cell_type": "code",
   "execution_count": 9,
   "metadata": {},
   "outputs": [
    {
     "name": "stdout",
     "output_type": "stream",
     "text": [
      "WalkerBase::__init__\n"
     ]
    },
    {
     "name": "stderr",
     "output_type": "stream",
     "text": [
      "  1%|          | 1/100 [00:00<00:41,  2.39it/s]"
     ]
    },
    {
     "name": "stdout",
     "output_type": "stream",
     "text": [
      "Step 0: 3.137914945884379\n"
     ]
    },
    {
     "name": "stderr",
     "output_type": "stream",
     "text": [
      "100%|██████████| 100/100 [00:27<00:00,  3.68it/s]\n"
     ]
    }
   ],
   "source": [
    "\n",
    "hp = HyperParameters()\n",
    "env = gym.make(Environment.HOPPER.value)\n",
    "ars = ARS(env, hp.learning_rate, hp.nb_directions, hp.std_exp_noise, hp.nb_best_directions)\n",
    "policy, rewards = ars.execute(hp.nb_steps, render=True)\n",
    "\n"
   ]
  },
  {
   "cell_type": "code",
   "execution_count": 10,
   "metadata": {},
   "outputs": [
    {
     "data": {
      "text/plain": [
       "[<matplotlib.lines.Line2D at 0x18276c23130>]"
      ]
     },
     "execution_count": 10,
     "metadata": {},
     "output_type": "execute_result"
    },
    {
     "data": {
      "image/png": "[encoded data removed]",
      "text/plain": [
       "<Figure size 432x288 with 1 Axes>"
      ]
     },
     "metadata": {
      "needs_background": "light"
     },
     "output_type": "display_data"
    }
   ],
   "source": [
    "plt.plot(rewards)"
   ]
  },
  {
   "cell_type": "code",
   "execution_count": null,
   "metadata": {},
   "outputs": [],
   "source": [
    "@dataclass\n",
    "class ARSOutput():\n",
    "    policy: Policy\n",
    "    rewards: list\n",
    "    hyper_parameters: HyperParameters\n",
    "    env: str"
   ]
  },
  {
   "cell_type": "code",
   "execution_count": null,
   "metadata": {},
   "outputs": [],
   "source": [
    "def save_output(path:str, policy: Policy, rewards: list, hp: HyperParameters, env: str):\n",
    "    output = ARSOutput(policy, rewards, hp, env)\n",
    "    with open(path, \"wb\") as f:\n",
    "        dump(output, f)\n",
    "\n",
    "def load_output(path:str)-> ARSOutput:\n",
    "    with open(path, \"rb\") as f:\n",
    "        return load(f)\n",
    "    "
   ]
  },
  {
   "cell_type": "code",
   "execution_count": null,
   "metadata": {},
   "outputs": [],
   "source": []
  }
 ],
 "metadata": {
  "interpreter": {
   "hash": "c3e4dc090d7d99b7fb5574a38463a809430052dfd0398e7555ea39d90f0242e8"
  },
  "kernelspec": {
   "display_name": "Python 3.9.2 64-bit ('inf8953-project': virtualenv)",
   "language": "python",
   "name": "python3"
  },
  "language_info": {
   "codemirror_mode": {
    "name": "ipython",
    "version": 3
   },
   "file_extension": ".py",
   "mimetype": "text/x-python",
   "name": "python",
   "nbconvert_exporter": "python",
   "pygments_lexer": "ipython3",
   "version": "3.9.2"
  },
  "orig_nbformat": 4
 },
 "nbformat": 4,
 "nbformat_minor": 2
}
